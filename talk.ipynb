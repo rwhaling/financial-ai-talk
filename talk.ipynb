{
 "cells": [
  {
   "cell_type": "markdown",
   "id": "33022567",
   "metadata": {},
   "source": [
    "# Safe Financial AI with Claude 2 and Amazon Bedrock\n",
    "\n",
    "\n",
    "## WindyCityDevFest \n",
    "## October 24, 2023"
   ]
  },
  {
   "cell_type": "code",
   "execution_count": null,
   "id": "ed35060b",
   "metadata": {},
   "outputs": [],
   "source": [
    "import json\n",
    "import re\n",
    "from ai_utils import *\n",
    "from data_utils import *"
   ]
  },
  {
   "cell_type": "code",
   "execution_count": null,
   "id": "7d717dd2",
   "metadata": {},
   "outputs": [],
   "source": [
    "complete(\"hello, to whom am I speaking?\")"
   ]
  },
  {
   "cell_type": "code",
   "execution_count": null,
   "id": "738538ff",
   "metadata": {},
   "outputs": [],
   "source": [
    "symbols = [\"SPY\", \"VGT\", \"AAPL\", \"MSFT\", \"NVDA\", \n",
    "           \"ADBE\", \"CSCO\", \"CRM\", \"ORCL\", \"AMD\", \n",
    "           \"ACN\", \"INTC\", \"TXN\", \"INTU\", \"IBM\", \n",
    "           \"QCOM\", \"MU\", \"PANW\"]\n",
    "\n",
    "raw_data = fetch_data(symbols, start=\"2023-07-03\", end=\"2023-10-03\", interval=\"1wk\")\n",
    "raw_data[\"Adj Close\"]"
   ]
  },
  {
   "cell_type": "code",
   "execution_count": null,
   "id": "95b4d748",
   "metadata": {},
   "outputs": [],
   "source": [
    "portfolio = {\n",
    "    \"AAPL\": 80,\n",
    "    \"ACN\": 20,\n",
    "    \"ADBE\": 30,\n",
    "    \"AMD\": 60\n",
    "}\n",
    "\n",
    "positions = pd.DataFrame(index=raw_data.index)\n",
    "for (sym, shares) in portfolio.items():\n",
    "    positions[sym] = raw_data[\"Adj Close\"][sym] * shares\n",
    "positions[\"Total\"] = positions.sum(axis=1)\n",
    "\n",
    "positions"
   ]
  },
  {
   "cell_type": "markdown",
   "id": "2e151e7a",
   "metadata": {},
   "source": [
    "## Does it Work? Initial Prompt and Validation"
   ]
  },
  {
   "cell_type": "code",
   "execution_count": null,
   "id": "a9ec5d67",
   "metadata": {},
   "outputs": [],
   "source": [
    "prompt = f\"\"\"\n",
    "Given the following time series data, consisting of investment portfolio performance data, \n",
    "as well as the portfolio total, please identify:\n",
    "1. the overall trend and norm in the data, as well as\n",
    "2. particular dates/rows that are outliers\n",
    "3. how particular securities contributing to trends and outliers overall\n",
    "\n",
    "Category: investment portfolio data\n",
    "Overall date range: July 3, 2023 - Oct 9 2023 (Weekly)\n",
    "Data:\n",
    "{to_csv(positions,'${:.2f}')}\n",
    "\"\"\"\n",
    "\n",
    "print(prompt)\n",
    "print(\"\\n--waiting--\\n\")\n",
    "print(complete(prompt)['completion'])"
   ]
  },
  {
   "cell_type": "markdown",
   "id": "cdd7e75c",
   "metadata": {},
   "source": [
    "## Add Data, Until it Breaks"
   ]
  },
  {
   "cell_type": "code",
   "execution_count": null,
   "id": "bff2df2e",
   "metadata": {},
   "outputs": [],
   "source": [
    "prompt = f\"\"\"\n",
    "Given the following time series data, consisting of securities market data for a series of individual technology stocks, \n",
    "as well as VGT, a technology-sector index fund please compare the performance of the listed securities to the index over the entire time period.\n",
    "You don't have to provide an interpretation of every security provided, but please call out any exceptional high or low performers.\n",
    "\n",
    "Category: market and reference data\n",
    "Overall date range: July 3, 2023 - Oct 9 2023 (Weekly)\n",
    "Data:\n",
    "{to_csv(raw_data[\"Adj Close\"],'${:.2f}')}\n",
    "\"\"\"\n",
    "print(prompt)\n",
    "print(\"\\n--waiting--\\n\")\n",
    "print(complete(prompt)['completion'])"
   ]
  },
  {
   "cell_type": "code",
   "execution_count": null,
   "id": "35bb822b",
   "metadata": {},
   "outputs": [],
   "source": [
    "def mk_gains(positions):\n",
    "    percentage_change = pd.DataFrame(index=positions.index)\n",
    "    for k in positions.keys():\n",
    "        percentage_change[k] = 100 * (1 - positions[k].shift(1) / positions[k])\n",
    "    return percentage_change.tail(-1)\n",
    "\n",
    "performance = mk_gains(raw_data[\"Adj Close\"])\n",
    "performance"
   ]
  },
  {
   "cell_type": "code",
   "execution_count": null,
   "id": "263c3a32",
   "metadata": {},
   "outputs": [],
   "source": [
    "prompt = f\"\"\"\n",
    "Given the following time series data, consisting of investment portfolio performance data, \n",
    "as well as the portfolio total, please identify:\n",
    "1. the overall trend and norm in the data, as well as\n",
    "2. particular dates/rows that are outliers\n",
    "3. how particular securities contributing to trends and outliers overall\n",
    "\n",
    "Category: investment portfolio data\n",
    "Overall date range: July 3, 2023 - Oct 9 2023 (Weekly)\n",
    "Data:\n",
    "{to_csv(performance,'{:.2f}%')}\n",
    "\"\"\"\n",
    "\n",
    "print(prompt)\n",
    "print(\"--waiting--\")\n",
    "print(complete(prompt)['completion'])"
   ]
  },
  {
   "cell_type": "markdown",
   "id": "3b9687a6",
   "metadata": {},
   "source": [
    "## Specialized Prompts and Structured Output"
   ]
  },
  {
   "cell_type": "code",
   "execution_count": null,
   "id": "15f3c41d",
   "metadata": {},
   "outputs": [],
   "source": [
    "start_date = \"2023-07-03\"\n",
    "end_date = \"2023-10-02\"\n",
    "start_end = raw_data[\"Adj Close\"].loc[[start_date, end_date]]\n",
    "start_end"
   ]
  },
  {
   "cell_type": "code",
   "execution_count": null,
   "id": "f8137206",
   "metadata": {},
   "outputs": [],
   "source": [
    "start_end_gains = mk_gains(start_end)\n",
    "start_end_gains"
   ]
  },
  {
   "cell_type": "code",
   "execution_count": null,
   "id": "9afe0718",
   "metadata": {},
   "outputs": [],
   "source": [
    "prompt = f\"\"\"\n",
    "Given the following stock performance data, including start and end prices over the time frame, \n",
    "as well as the percentage change (performance), please identify overall trends, \n",
    "as well as outliers relative to the performance of VGT, a tech index fund that is included as well.\n",
    "\n",
    "Please tag any outlier you identify with the XML tag <outlier> for future processing, like <outlier>AMD</outlier>.\n",
    "\n",
    "Category: market and reference data\n",
    "Overall date range: July 3, 2023 - Oct 9 2023 (Weekly)\n",
    "Price Data:\n",
    "{to_csv(start_end,'${:.2f}')}\n",
    "\n",
    "Performance Data:\n",
    "{to_csv(start_end_gains)}\n",
    "\"\"\"\n",
    "print(prompt)\n",
    "print(\"\\n--waiting--\\n\")\n",
    "tagged_results = complete(prompt)['completion']\n",
    "print(tagged_results)"
   ]
  },
  {
   "cell_type": "code",
   "execution_count": null,
   "id": "ff54cbc1",
   "metadata": {},
   "outputs": [],
   "source": [
    "prompt = f\"\"\"\n",
    "please write me a python regular expression to extract xml tags of the form <outlier>SYMBOL</outlier>\"\"\"\n",
    "print(complete(prompt)['completion'])"
   ]
  },
  {
   "cell_type": "markdown",
   "id": "802d9b13",
   "metadata": {},
   "source": [
    "## Iterating over structured output"
   ]
  },
  {
   "cell_type": "code",
   "execution_count": null,
   "id": "95f4b421",
   "metadata": {},
   "outputs": [],
   "source": [
    "outliers = re.findall(r'<outlier>(.*?)</outlier>',tagged_results)\n",
    "print(outliers)\n",
    "\n",
    "detail_results = []\n",
    "\n",
    "for outlier in outliers:\n",
    "    outlier_data = raw_data['Adj Close'][['SPY','VGT',outlier]]\n",
    "    prompt = f\"\"\"\n",
    "    Given the following stock performance data for {outlier}, \n",
    "    as well as reference index funds for the tech sector (VGT) and overall market (SPY),\n",
    "    please relate {outlier}'s performance to overall trends, noting specific dates \n",
    "    when it overperformered or underperformed. \n",
    "    \n",
    "    When you identify a date, please tag it with XML as <date>, \n",
    "    like <date>2023-07-03</date> (make sure to use YYYY-MM-DD format as well)\n",
    "    \n",
    "    Category: market and reference data\n",
    "    Overall date range: July 3, 2023 - Oct 9 2023 (Weekly)\n",
    "    Price Data:\n",
    "    {to_csv(outlier_data,'${:.2f}')}    \n",
    "    \"\"\"\n",
    "    print(prompt)\n",
    "    print(\"\\n--waiting--\\n\")\n",
    "    result = complete(prompt)['completion']\n",
    "    print(result)\n",
    "    print(\"\\n--done--\\n\")\n",
    "    detail_results.append(result)"
   ]
  },
  {
   "cell_type": "markdown",
   "id": "abb37c9b",
   "metadata": {},
   "source": [
    "## Concatenate and Summarize"
   ]
  },
  {
   "cell_type": "code",
   "execution_count": null,
   "id": "0af349e2",
   "metadata": {},
   "outputs": [],
   "source": [
    "prompt = f\"\"\"\n",
    "Please summarize and contextualize the following collection of portfolio performance analysis \n",
    "from a series of preceding AI prompts.  First, I'll provide an overall summary of portfolio performance \n",
    "over the time period July 3, 2023 - Oct 9, 2023 - that overall performance analysis \n",
    "will identify several outlier securities for further analysis. Ensure that you focus on the big picture, \n",
    "while providing precise detail on particular events of interest. \n",
    "Do not provide investment advice or make any predictions - make empirical claims only.\n",
    "\n",
    "Category: Overall performance analysis\n",
    "Time Period: July 3, 2023 - Oct 9, 2023\n",
    "Performance Data:\n",
    "{to_csv(start_end_gains)}\n",
    "Analysis:\n",
    "{tagged_results}\n",
    "\"\"\"\n",
    "\n",
    "for outlier_analysis in detail_results:\n",
    "    prompt = prompt + \"\\n\\nOutlier Analysis:\\n\" + outlier_analysis\n",
    "\n",
    "print(prompt)\n",
    "print(\"\\n--waiting--\\n\")\n",
    "final_result = complete(prompt)['completion']\n",
    "print(final_result)\n",
    "print(\"\\n--done--\\n\")"
   ]
  },
  {
   "cell_type": "code",
   "execution_count": null,
   "id": "8533752b",
   "metadata": {},
   "outputs": [],
   "source": []
  }
 ],
 "metadata": {
  "kernelspec": {
   "display_name": "Python 3 (ipykernel)",
   "language": "python",
   "name": "python3"
  },
  "language_info": {
   "codemirror_mode": {
    "name": "ipython",
    "version": 3
   },
   "file_extension": ".py",
   "mimetype": "text/x-python",
   "name": "python",
   "nbconvert_exporter": "python",
   "pygments_lexer": "ipython3",
   "version": "3.8.6"
  }
 },
 "nbformat": 4,
 "nbformat_minor": 5
}
